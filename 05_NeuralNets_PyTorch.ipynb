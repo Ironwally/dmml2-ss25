{
 "cells": [
  {
   "cell_type": "markdown",
   "metadata": {},
   "source": [
    "# 5. Neural Networks with PyTorch"
   ]
  },
  {
   "cell_type": "markdown",
   "metadata": {},
   "source": [
    "In this notebook we build our first neural network with `PyTorch`.\n",
    "For this you must first install PyTorch as described [here](https://pytorch.org/get-started/locally/)."
   ]
  },
  {
   "cell_type": "markdown",
   "metadata": {},
   "source": [
    "We will work on the same dataset as the last two last weeks and try to predict which digit is shown on the given pixel values."
   ]
  },
  {
   "cell_type": "code",
   "execution_count": 1,
   "metadata": {},
   "outputs": [],
   "source": [
    "from sklearn.datasets import fetch_openml\n",
    "X, y = fetch_openml('mnist_784', version=1, return_X_y=True, cache=True, parser='auto')"
   ]
  },
  {
   "cell_type": "markdown",
   "metadata": {},
   "source": [
    "We know already from last time how the data looks:"
   ]
  },
  {
   "cell_type": "code",
   "execution_count": 2,
   "metadata": {},
   "outputs": [
    {
     "data": {
      "text/html": [
       "<div>\n",
       "<style scoped>\n",
       "    .dataframe tbody tr th:only-of-type {\n",
       "        vertical-align: middle;\n",
       "    }\n",
       "\n",
       "    .dataframe tbody tr th {\n",
       "        vertical-align: top;\n",
       "    }\n",
       "\n",
       "    .dataframe thead th {\n",
       "        text-align: right;\n",
       "    }\n",
       "</style>\n",
       "<table border=\"1\" class=\"dataframe\">\n",
       "  <thead>\n",
       "    <tr style=\"text-align: right;\">\n",
       "      <th></th>\n",
       "      <th>pixel1</th>\n",
       "      <th>pixel2</th>\n",
       "      <th>pixel3</th>\n",
       "      <th>pixel4</th>\n",
       "      <th>pixel5</th>\n",
       "      <th>pixel6</th>\n",
       "      <th>pixel7</th>\n",
       "      <th>pixel8</th>\n",
       "      <th>pixel9</th>\n",
       "      <th>pixel10</th>\n",
       "      <th>...</th>\n",
       "      <th>pixel775</th>\n",
       "      <th>pixel776</th>\n",
       "      <th>pixel777</th>\n",
       "      <th>pixel778</th>\n",
       "      <th>pixel779</th>\n",
       "      <th>pixel780</th>\n",
       "      <th>pixel781</th>\n",
       "      <th>pixel782</th>\n",
       "      <th>pixel783</th>\n",
       "      <th>pixel784</th>\n",
       "    </tr>\n",
       "  </thead>\n",
       "  <tbody>\n",
       "    <tr>\n",
       "      <th>0</th>\n",
       "      <td>0</td>\n",
       "      <td>0</td>\n",
       "      <td>0</td>\n",
       "      <td>0</td>\n",
       "      <td>0</td>\n",
       "      <td>0</td>\n",
       "      <td>0</td>\n",
       "      <td>0</td>\n",
       "      <td>0</td>\n",
       "      <td>0</td>\n",
       "      <td>...</td>\n",
       "      <td>0</td>\n",
       "      <td>0</td>\n",
       "      <td>0</td>\n",
       "      <td>0</td>\n",
       "      <td>0</td>\n",
       "      <td>0</td>\n",
       "      <td>0</td>\n",
       "      <td>0</td>\n",
       "      <td>0</td>\n",
       "      <td>0</td>\n",
       "    </tr>\n",
       "    <tr>\n",
       "      <th>1</th>\n",
       "      <td>0</td>\n",
       "      <td>0</td>\n",
       "      <td>0</td>\n",
       "      <td>0</td>\n",
       "      <td>0</td>\n",
       "      <td>0</td>\n",
       "      <td>0</td>\n",
       "      <td>0</td>\n",
       "      <td>0</td>\n",
       "      <td>0</td>\n",
       "      <td>...</td>\n",
       "      <td>0</td>\n",
       "      <td>0</td>\n",
       "      <td>0</td>\n",
       "      <td>0</td>\n",
       "      <td>0</td>\n",
       "      <td>0</td>\n",
       "      <td>0</td>\n",
       "      <td>0</td>\n",
       "      <td>0</td>\n",
       "      <td>0</td>\n",
       "    </tr>\n",
       "    <tr>\n",
       "      <th>2</th>\n",
       "      <td>0</td>\n",
       "      <td>0</td>\n",
       "      <td>0</td>\n",
       "      <td>0</td>\n",
       "      <td>0</td>\n",
       "      <td>0</td>\n",
       "      <td>0</td>\n",
       "      <td>0</td>\n",
       "      <td>0</td>\n",
       "      <td>0</td>\n",
       "      <td>...</td>\n",
       "      <td>0</td>\n",
       "      <td>0</td>\n",
       "      <td>0</td>\n",
       "      <td>0</td>\n",
       "      <td>0</td>\n",
       "      <td>0</td>\n",
       "      <td>0</td>\n",
       "      <td>0</td>\n",
       "      <td>0</td>\n",
       "      <td>0</td>\n",
       "    </tr>\n",
       "  </tbody>\n",
       "</table>\n",
       "<p>3 rows × 784 columns</p>\n",
       "</div>"
      ],
      "text/plain": [
       "   pixel1  pixel2  pixel3  pixel4  pixel5  pixel6  pixel7  pixel8  pixel9  \\\n",
       "0       0       0       0       0       0       0       0       0       0   \n",
       "1       0       0       0       0       0       0       0       0       0   \n",
       "2       0       0       0       0       0       0       0       0       0   \n",
       "\n",
       "   pixel10  ...  pixel775  pixel776  pixel777  pixel778  pixel779  pixel780  \\\n",
       "0        0  ...         0         0         0         0         0         0   \n",
       "1        0  ...         0         0         0         0         0         0   \n",
       "2        0  ...         0         0         0         0         0         0   \n",
       "\n",
       "   pixel781  pixel782  pixel783  pixel784  \n",
       "0         0         0         0         0  \n",
       "1         0         0         0         0  \n",
       "2         0         0         0         0  \n",
       "\n",
       "[3 rows x 784 columns]"
      ]
     },
     "execution_count": 2,
     "metadata": {},
     "output_type": "execute_result"
    }
   ],
   "source": [
    "X.head(3)"
   ]
  },
  {
   "cell_type": "markdown",
   "metadata": {},
   "source": [
    "The label is a number between 0-9 representing the digit shown on the pixels."
   ]
  },
  {
   "cell_type": "code",
   "execution_count": 3,
   "metadata": {},
   "outputs": [
    {
     "data": {
      "text/plain": [
       "0    5\n",
       "1    0\n",
       "2    4\n",
       "Name: class, dtype: category\n",
       "Categories (10, object): ['0', '1', '2', '3', ..., '6', '7', '8', '9']"
      ]
     },
     "execution_count": 3,
     "metadata": {},
     "output_type": "execute_result"
    }
   ],
   "source": [
    "y.head(3)"
   ]
  },
  {
   "cell_type": "markdown",
   "metadata": {},
   "source": [
    "Before we start, we scale the data and divide it into train and test data:"
   ]
  },
  {
   "cell_type": "code",
   "execution_count": 4,
   "metadata": {},
   "outputs": [
    {
     "data": {
      "text/plain": [
       "((59500, 784), (59500,))"
      ]
     },
     "execution_count": 4,
     "metadata": {},
     "output_type": "execute_result"
    }
   ],
   "source": [
    "from sklearn.model_selection import train_test_split\n",
    "\n",
    "X_scaled = (X/255).astype('float32').values\n",
    "y = y.astype('long').values\n",
    "X_train, X_test, y_train, y_test = train_test_split(X_scaled, y, test_size=0.15, random_state=42)\n",
    "X_train.shape, y_train.shape"
   ]
  },
  {
   "cell_type": "markdown",
   "metadata": {},
   "source": [
    "###  Model Training"
   ]
  },
  {
   "cell_type": "markdown",
   "metadata": {},
   "source": [
    "The following lines checks for the availability of a GPU on the machine and sets the GPU as processing device (if available). No worries if you have no GPU available, CPU works also fine for our examples."
   ]
  },
  {
   "cell_type": "code",
   "execution_count": 5,
   "metadata": {},
   "outputs": [
    {
     "data": {
      "text/plain": [
       "<torch._C.Generator at 0x7d227b7d9950>"
      ]
     },
     "execution_count": 5,
     "metadata": {},
     "output_type": "execute_result"
    }
   ],
   "source": [
    "import torch\n",
    "torch.manual_seed(0) # to ensure reproducibiltiy"
   ]
  },
  {
   "cell_type": "code",
   "execution_count": 7,
   "metadata": {},
   "outputs": [
    {
     "name": "stdout",
     "output_type": "stream",
     "text": [
      "Using cpu device\n"
     ]
    }
   ],
   "source": [
    "device = \"cuda\" if torch.cuda.is_available() else \"cpu\"\n",
    "print(f\"Using {device} device\")"
   ]
  },
  {
   "cell_type": "markdown",
   "metadata": {},
   "source": [
    "To be able to use the data in PyTorch, we need to convert our data into PyTorch tensors.\n",
    "Such a tensor is the PyTorch equivalent of a Numpy array. \n",
    "However, it has the additional benefit that they can be easily copied to the GPU (the `.to(device)` part in the code below) and that they support automatic backpropagation (more on this later):"
   ]
  },
  {
   "cell_type": "code",
   "execution_count": 8,
   "metadata": {},
   "outputs": [],
   "source": [
    "train_x = torch.Tensor(X_train).float().to(device)\n",
    "test_x = torch.Tensor(X_test).float().to(device)\n",
    "train_y = torch.Tensor(y_train).long().to(device)\n",
    "test_y = torch.Tensor(y_test).long().to(device)"
   ]
  },
  {
   "cell_type": "markdown",
   "metadata": {},
   "source": [
    "We start with the following structure of a neural network with two hidden layers:\n",
    "- Input layer of size 784 with sigmoid activation\n",
    "- First hidden layer of size 128 with sigmoid activation\n",
    "- Second hidden layer of size 64 with sigmoid activation\n",
    "- Output layer of size 10 with softmax activation\n",
    "\n",
    "A skeleton code for this network is given in the following class."
   ]
  },
  {
   "cell_type": "code",
   "execution_count": 9,
   "metadata": {},
   "outputs": [],
   "source": [
    "import torch.nn as nn\n",
    "\n",
    "class DeepNeuralNetwork(nn.Module): # the class has to inherent from nn.Module\n",
    "    def __init__(self):\n",
    "        \n",
    "        super(DeepNeuralNetwork, self).__init__()  # calling super constructor\n",
    "        \n",
    "        # defining layers\n",
    "        self.hidden1 = nn.Linear(784, 128)\n",
    "        self.hidden2 = nn.Linear(128, 64)\n",
    "        self.output = nn.Linear(64, 10)\n",
    "\n",
    "    def forward(self, x):\n",
    "        \n",
    "        z1 = self.hidden1(x)\n",
    "        a1 = torch.sigmoid(z1)\n",
    "        z2 = self.hidden2(a1)\n",
    "        a2 = torch.sigmoid(z2)\n",
    "        z3 = self.output(a2)\n",
    "        # note: we do not apply the softmax here!\n",
    "        return z3"
   ]
  },
  {
   "cell_type": "markdown",
   "metadata": {},
   "source": [
    "We can now create the model and move it to the device. We set it to train methode and check the number of parameters:"
   ]
  },
  {
   "cell_type": "code",
   "execution_count": 11,
   "metadata": {},
   "outputs": [
    {
     "data": {
      "text/plain": [
       "DeepNeuralNetwork(\n",
       "  (hidden1): Linear(in_features=784, out_features=128, bias=True)\n",
       "  (hidden2): Linear(in_features=128, out_features=64, bias=True)\n",
       "  (output): Linear(in_features=64, out_features=10, bias=True)\n",
       ")"
      ]
     },
     "execution_count": 11,
     "metadata": {},
     "output_type": "execute_result"
    }
   ],
   "source": [
    "dnn = DeepNeuralNetwork()\n",
    "dnn.to(device)            # copy the model to the device \n",
    "dnn.train()      # set model into training mode"
   ]
  },
  {
   "cell_type": "markdown",
   "metadata": {},
   "source": [
    "We can now start training the network by implementing the training procedure. We train the network for 1000 epochs:"
   ]
  },
  {
   "cell_type": "code",
   "execution_count": 12,
   "metadata": {},
   "outputs": [
    {
     "name": "stdout",
     "output_type": "stream",
     "text": [
      "Loss in epoch 0 is 2.3593437671661377\n",
      "Loss in epoch 100 is 2.2745795249938965\n",
      "Loss in epoch 200 is 2.050680637359619\n",
      "Loss in epoch 300 is 1.2701458930969238\n",
      "Loss in epoch 400 is 0.8630928993225098\n",
      "Loss in epoch 500 is 0.6714110970497131\n",
      "Loss in epoch 600 is 0.5504969358444214\n",
      "Loss in epoch 700 is 0.4772297739982605\n",
      "Loss in epoch 800 is 0.4309656023979187\n",
      "Loss in epoch 900 is 0.3994044065475464\n"
     ]
    }
   ],
   "source": [
    "no_epochs = 1000\n",
    "learning_rate = 0.3\n",
    "\n",
    "loss_func = nn.CrossEntropyLoss()  \n",
    "optimizer = torch.optim.SGD(dnn.parameters(), lr=learning_rate)\n",
    "\n",
    "losses = []\n",
    "for iteration in range(no_epochs):\n",
    "    \n",
    "    optimizer.zero_grad()\n",
    "    y_hat = dnn(train_x) # we predict on all data points (= batch gradient descent)\n",
    "    \n",
    "    loss = loss_func(y_hat, train_y) # calculate the loss\n",
    "    loss.backward() # backpropagate the loss to calculate gradients\n",
    "    optimizer.step() # update the weights using these gradients \n",
    "\n",
    "    losses.append(loss.item())\n",
    "    if iteration % 100 == 0:\n",
    "        print(f\"Loss in epoch {iteration} is {loss.item()}\")\n",
    "           "
   ]
  },
  {
   "cell_type": "code",
   "execution_count": 13,
   "metadata": {},
   "outputs": [
    {
     "data": {
      "text/plain": [
       "Text(0, 0.5, 'loss')"
      ]
     },
     "execution_count": 13,
     "metadata": {},
     "output_type": "execute_result"
    },
    {
     "data": {
      "image/png": "[encoded data removed]",
      "text/plain": [
       "<Figure size 640x480 with 1 Axes>"
      ]
     },
     "metadata": {},
     "output_type": "display_data"
    }
   ],
   "source": [
    "import matplotlib.pyplot as plt\n",
    "fig = plt.figure()\n",
    "plt.plot(range(0, no_epochs), losses)\n",
    "plt.xlabel('number of epochs')\n",
    "plt.ylabel('loss')"
   ]
  },
  {
   "cell_type": "markdown",
   "metadata": {},
   "source": [
    "### Predict on the test data"
   ]
  },
  {
   "cell_type": "markdown",
   "metadata": {},
   "source": [
    "After the network is trained, we can use it to predict on the test data."
   ]
  },
  {
   "cell_type": "code",
   "execution_count": null,
   "metadata": {},
   "outputs": [
    {
     "name": "stdout",
     "output_type": "stream",
     "text": [
      "Accuarcy is 88.28571428571429%\n"
     ]
    }
   ],
   "source": [
    "dnn.eval() \n",
    "y_pred = dnn(test_x)\n",
    "predicted = torch.argmax(y_pred.data, 1)\n",
    "correct = (predicted == test_y).sum().item()\n",
    "accuracy = correct / len(test_x)\n",
    "\n",
    "print(f\"Accuarcy is {100. * accuracy}%\")"
   ]
  },
  {
   "cell_type": "markdown",
   "metadata": {},
   "source": [
    "If we want to prediction of the network on a data point, we get the raw scores since we did not use a softmax activation layer in the output layer:"
   ]
  },
  {
   "cell_type": "code",
   "execution_count": 14,
   "metadata": {},
   "outputs": [
    {
     "data": {
      "text/plain": [
       "tensor([-2.8070, -2.0646,  1.4062,  2.1663, -2.5095,  2.2351, -4.0540, -3.4107,\n",
       "         7.2144,  0.9748], grad_fn=<ViewBackward0>)"
      ]
     },
     "execution_count": 14,
     "metadata": {},
     "output_type": "execute_result"
    }
   ],
   "source": [
    "dnn(test_x[0])"
   ]
  },
  {
   "cell_type": "markdown",
   "metadata": {},
   "source": [
    "We can get the probabilies by applying a softmax to this output:"
   ]
  },
  {
   "cell_type": "code",
   "execution_count": 15,
   "metadata": {},
   "outputs": [
    {
     "data": {
      "text/plain": [
       "tensor([4.3631e-05, 9.1672e-05, 2.9484e-03, 6.3048e-03, 5.8752e-05, 6.7543e-03,\n",
       "        1.2538e-05, 2.3858e-05, 9.8185e-01, 1.9152e-03],\n",
       "       grad_fn=<SoftmaxBackward0>)"
      ]
     },
     "execution_count": 15,
     "metadata": {},
     "output_type": "execute_result"
    }
   ],
   "source": [
    "import torch.nn.functional as F\n",
    "y_hat = dnn(test_x[0])\n",
    "F.softmax(y_hat, dim=0)"
   ]
  },
  {
   "cell_type": "markdown",
   "metadata": {},
   "source": [
    "The maximum index is in both cases the same, since the softmax does not change the ranking of the values."
   ]
  },
  {
   "cell_type": "code",
   "execution_count": 16,
   "metadata": {},
   "outputs": [
    {
     "name": "stdout",
     "output_type": "stream",
     "text": [
      "tensor(8)\n",
      "tensor(8)\n"
     ]
    }
   ],
   "source": [
    "x1 = dnn(test_x[0]) # raw scores\n",
    "x2 = F.softmax(dnn(test_x[0]), dim=0) # probabilites\n",
    "print(torch.argmax(x1))\n",
    "print(torch.argmax(x2))"
   ]
  },
  {
   "cell_type": "markdown",
   "metadata": {},
   "source": [
    "## Coding Tasks"
   ]
  },
  {
   "cell_type": "markdown",
   "metadata": {},
   "source": [
    "### 1. Prepare the data\n",
    "1. Create a new notebook in which you load the titanic dataset (see `data` folder).\n",
    "2. Keep the following columns, filter out the rest: `Pclass, Sex, Age, SibSp, Parch, Fare, Embarked, Survived`.\n",
    "3. Drop all NAs values using: `df = df.dropna()`\n",
    "4. One-hot encode the attributes `Sex` and `Embarked` using the following code:\n",
    "    `df = pd.get_dummies(df, columns=[\"Sex\", \"Embarked\"], dtype=float)`\n",
    "5. Take `survived` as label and the other columns as features.\n",
    "6. Do a train-test-split with 20% test data and set `random_state=0`"
   ]
  },
  {
   "cell_type": "markdown",
   "metadata": {},
   "source": [
    "### 2. Train a neural network\n",
    "1. Train a neural network with one hidden layer of size 5 and ReLu as activation for this layer (no activation on the output layer).\n",
    "2. Use `CrossEntropyLoss` and a `SGD` optimizer with learning rate 0.001\n",
    "3. Train the network for 200 epochs and print the loss every 20 epochs.\n",
    "4. Plot the loss plot as shown above.\n",
    "5. Predict on the test data with the trained network and measure accuracy."
   ]
  },
  {
   "cell_type": "markdown",
   "metadata": {},
   "source": [
    "### 3.  Bonus: Check for overfitting\n",
    "- After each epoch, use the network to predict on the train data and on the test data. Measure the accuracy on both and remeber the values in seperate lists.\n",
    "- After the training is finished, plot both curves in a graph with number of epochs on the x-axis and accuracy on y.\n",
    "- Does the graph indicate overfitting of the model?"
   ]
  }
 ],
 "metadata": {
  "kernelspec": {
   "display_name": "dmml2",
   "language": "python",
   "name": "python3"
  },
  "language_info": {
   "codemirror_mode": {
    "name": "ipython",
    "version": 3
   },
   "file_extension": ".py",
   "mimetype": "text/x-python",
   "name": "python",
   "nbconvert_exporter": "python",
   "pygments_lexer": "ipython3",
   "version": "3.8.20"
  }
 },
 "nbformat": 4,
 "nbformat_minor": 4
}
