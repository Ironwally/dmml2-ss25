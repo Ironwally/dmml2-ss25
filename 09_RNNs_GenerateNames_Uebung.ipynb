{
 "cells": [
  {
   "cell_type": "markdown",
   "metadata": {},
   "source": [
    "\n",
    "# Generating Names with a Character-Level RNN\n",
    "\n"
   ]
  },
  {
   "cell_type": "markdown",
   "metadata": {},
   "source": [
    "In this exercise, we will create a small language model that can create new names, given a certain language. For this, we use an character-level RNN that is trained on the names data and then predicts the next character based on the last characters."
   ]
  },
  {
   "cell_type": "markdown",
   "metadata": {},
   "source": [
    "### Preparing the Data\n",
    "\n",
    "Download the data in folder `data/names` from GitHub.\n",
    "\n",
    "Included in the ``data/names`` directory are 18 text files named as\n",
    "``[Language].txt``. Each file contains a bunch of names, one name per\n",
    "line, mostly romanized (but we still need to convert from Unicode to\n",
    "ASCII)."
   ]
  },
  {
   "cell_type": "code",
   "execution_count": 21,
   "metadata": {
    "scrolled": true
   },
   "outputs": [
    {
     "name": "stdout",
     "output_type": "stream",
     "text": [
      "Vocab is of size 57 and contains: abcdefghijklmnopqrstuvwxyzABCDEFGHIJKLMNOPQRSTUVWXYZ .,;'\n"
     ]
    }
   ],
   "source": [
    "import string\n",
    "import unicodedata\n",
    "\n",
    "# these is the vocabulary we will use\n",
    "all_letters = string.ascii_letters + \" .,;'\"\n",
    "n_letters = len(all_letters)\n",
    "\n",
    "print(f\"Vocab is of size {n_letters} and contains:\", all_letters)"
   ]
  },
  {
   "cell_type": "code",
   "execution_count": 22,
   "metadata": {},
   "outputs": [
    {
     "name": "stdout",
     "output_type": "stream",
     "text": [
      "Slusarski\n",
      "Heute ist es schon hei\n"
     ]
    }
   ],
   "source": [
    "# we convert anything into ascii\n",
    "def unicodeToAscii(s):\n",
    "    return ''.join(\n",
    "        c for c in unicodedata.normalize('NFD', s)\n",
    "        if unicodedata.category(c) != 'Mn'\n",
    "        and c in all_letters\n",
    "    )\n",
    "\n",
    "print(unicodeToAscii('Ślusàrski'))\n",
    "print(unicodeToAscii('Heute ist es schön heiß'))"
   ]
  },
  {
   "cell_type": "code",
   "execution_count": 23,
   "metadata": {},
   "outputs": [
    {
     "data": {
      "text/plain": [
       "18"
      ]
     },
     "execution_count": 23,
     "metadata": {},
     "output_type": "execute_result"
    }
   ],
   "source": [
    "from io import open\n",
    "import glob\n",
    "import os\n",
    "\n",
    "# Read a file and split into lines\n",
    "def readLines(filename):\n",
    "    lines = open(filename, encoding='utf-8').read().strip().split('\\n')\n",
    "    return [unicodeToAscii(line) for line in lines]\n",
    "\n",
    "all_categories = []\n",
    "category_lines = {}\n",
    "\n",
    "for filename in glob.glob('data/names/*.txt'):\n",
    "    category = os.path.splitext(os.path.basename(filename))[0]\n",
    "    all_categories.append(category)\n",
    "    lines = readLines(filename)\n",
    "    category_lines[category] = lines\n",
    "\n",
    "n_categories = len(all_categories)\n",
    "n_categories"
   ]
  },
  {
   "cell_type": "markdown",
   "metadata": {},
   "source": [
    "### Creating the Network\n",
    "\n",
    "This network extends the RNN from last week \n",
    "with an extra argument for the category tensor, which is concatenated\n",
    "along with the others. The category tensor is a one-hot vector just like\n",
    "the letter input.\n",
    "\n",
    "There is  a second linear layer ``o2o`` (after combining hidden and\n",
    "output) to give it more power to work with."
   ]
  },
  {
   "cell_type": "code",
   "execution_count": 24,
   "metadata": {},
   "outputs": [],
   "source": [
    "import torch\n",
    "import torch.nn as nn\n",
    "\n",
    "class RNN(nn.Module):\n",
    "    def __init__(self, input_size, hidden_size, output_size):\n",
    "        super(RNN, self).__init__()\n",
    "        self.hidden_size = hidden_size\n",
    "\n",
    "        self.i2h = nn.Linear(n_categories + input_size + hidden_size, hidden_size)\n",
    "        self.i2o = nn.Linear(n_categories + input_size + hidden_size, output_size)\n",
    "        self.o2o = nn.Linear(hidden_size + output_size, output_size)\n",
    "\n",
    "    def forward(self, category, input, hidden):\n",
    "        input_combined = torch.cat((category, input, hidden), 1)\n",
    "        hidden = self.i2h(input_combined)\n",
    "        output = self.i2o(input_combined)\n",
    "        output_combined = torch.cat((hidden, output), 1)\n",
    "        output = self.o2o(output_combined)\n",
    "        \n",
    "        return output, hidden\n",
    "\n",
    "    def initHidden(self):\n",
    "        return torch.zeros(1, self.hidden_size)"
   ]
  },
  {
   "cell_type": "markdown",
   "metadata": {},
   "source": [
    "Training\n",
    "=========\n",
    "Preparing for Training\n",
    "----------------------"
   ]
  },
  {
   "cell_type": "markdown",
   "metadata": {},
   "source": [
    "For each timestep (that is, for each letter in a training word) the\n",
    "inputs of the network will be\n",
    "``(category, current letter, hidden state)`` and the outputs will be\n",
    "``(next letter, next hidden state)``. So for each training set, we'll\n",
    "need the category, a set of input letters, and a set of output/target\n",
    "letters.\n",
    "\n",
    "Since we are predicting the next letter from the current letter for each\n",
    "timestep, the letter pairs are groups of consecutive letters from the\n",
    "line - e.g. for ``\"ABCD<EOS>\"`` we would create (\"A\", \"B\"), (\"B\", \"C\"),\n",
    "(\"C\", \"D\"), (\"D\", \"EOS\").\n",
    "\n",
    "The category tensor is a one-hot tensor of size\n",
    "``<1 x n_categories>``. When training we feed it to the network at every\n",
    "timestep - this is a design choice, it could have been included as part\n",
    "of initial hidden state or some other strategy.\n",
    "\n",
    "\n"
   ]
  },
  {
   "cell_type": "code",
   "execution_count": 25,
   "metadata": {},
   "outputs": [],
   "source": [
    "# One-hot vector for category\n",
    "def categoryTensor(category):\n",
    "    li = all_categories.index(category)\n",
    "    tensor = torch.zeros(1, n_categories)\n",
    "    tensor[0][li] = 1\n",
    "    return tensor\n",
    "\n",
    "# One-hot matrix of first to last letters (not including EOS) for input\n",
    "def inputTensor(line):\n",
    "    tensor = torch.zeros(len(line), 1, n_letters)\n",
    "    for li in range(len(line)):\n",
    "        letter = line[li]\n",
    "        tensor[li][0][all_letters.find(letter)] = 1\n",
    "    return tensor\n",
    "\n",
    "# LongTensor of second letter to end (EOS) for target\n",
    "def targetTensor(line):\n",
    "    letter_indexes = [all_letters.find(line[li]) for li in range(1, len(line))]\n",
    "    letter_indexes.append(n_letters - 1) # EOS\n",
    "    return torch.LongTensor(letter_indexes)"
   ]
  },
  {
   "cell_type": "markdown",
   "metadata": {},
   "source": [
    "For convenience during training we'll make a ``randomTrainingExample``\n",
    "function that fetches a random (category, line) pair and turns them into\n",
    "the required (category, input, target) tensors.\n",
    "\n",
    "\n"
   ]
  },
  {
   "cell_type": "code",
   "execution_count": 26,
   "metadata": {},
   "outputs": [],
   "source": [
    "import random\n",
    "\n",
    "# Get a random category and random line from that category\n",
    "def randomTrainingPair():\n",
    "    category = random.choice(all_categories)\n",
    "    lines = category_lines[category]\n",
    "    line = random.choice(lines)\n",
    "    return category, line"
   ]
  },
  {
   "cell_type": "code",
   "execution_count": 27,
   "metadata": {},
   "outputs": [],
   "source": [
    "# Make category, input, and target tensors from a random category, line pair\n",
    "def randomTrainingExample():\n",
    "    category, line = randomTrainingPair()\n",
    "    category_tensor = categoryTensor(category)\n",
    "    input_line_tensor = inputTensor(line)\n",
    "    target_line_tensor = targetTensor(line)\n",
    "    return category_tensor, input_line_tensor, target_line_tensor"
   ]
  },
  {
   "cell_type": "markdown",
   "metadata": {},
   "source": [
    "Training the Network\n",
    "--------------------\n",
    "\n",
    "In contrast to classification, where only the last output is used, we\n",
    "are making a prediction at every step, so we are calculating loss at\n",
    "every step.\n",
    "\n",
    "The magic of autograd allows you to simply sum these losses at each step\n",
    "and call backward at the end.\n",
    "\n",
    "\n"
   ]
  },
  {
   "cell_type": "code",
   "execution_count": 28,
   "metadata": {},
   "outputs": [],
   "source": [
    "rnn = RNN(n_letters, 128, n_letters)\n",
    "\n",
    "criterion = nn.CrossEntropyLoss()\n",
    "optimizer = torch.optim.SGD(rnn.parameters(), lr=0.005)\n",
    "\n",
    "learning_rate = 0.0005\n",
    "\n",
    "def train(category_tensor, input_line_tensor, target_line_tensor):\n",
    "    target_line_tensor.unsqueeze_(-1)\n",
    "    hidden = rnn.initHidden()\n",
    "\n",
    "    rnn.zero_grad()\n",
    "\n",
    "    loss = 0\n",
    "\n",
    "    for i in range(input_line_tensor.size(0)):\n",
    "        output, hidden = rnn(category_tensor, input_line_tensor[i], hidden)\n",
    "        l = criterion(output, target_line_tensor[i])\n",
    "        loss += l\n",
    "    \n",
    "    loss.backward()\n",
    "    optimizer.step()\n",
    "\n",
    "    return output, loss.item() / input_line_tensor.size(0)"
   ]
  },
  {
   "cell_type": "code",
   "execution_count": 29,
   "metadata": {},
   "outputs": [],
   "source": [
    "import time\n",
    "import math\n",
    "\n",
    "def timeSince(since):\n",
    "    now = time.time()\n",
    "    s = now - since\n",
    "    m = math.floor(s / 60)\n",
    "    s -= m * 60\n",
    "    return '%dm %ds' % (m, s)"
   ]
  },
  {
   "cell_type": "code",
   "execution_count": 30,
   "metadata": {},
   "outputs": [
    {
     "name": "stdout",
     "output_type": "stream",
     "text": [
      "0m 12s (5000 5%) 1.9321\n",
      "0m 21s (10000 10%) 2.3207\n",
      "0m 30s (15000 15%) 1.6762\n",
      "0m 38s (20000 20%) 1.0078\n",
      "0m 47s (25000 25%) 2.8722\n",
      "0m 56s (30000 30%) 2.2278\n",
      "1m 5s (35000 35%) 1.8051\n",
      "1m 13s (40000 40%) 1.9908\n",
      "1m 21s (45000 45%) 1.1853\n",
      "1m 30s (50000 50%) 1.1942\n",
      "1m 39s (55000 55%) 1.9484\n",
      "1m 48s (60000 60%) 0.7383\n",
      "1m 56s (65000 65%) 2.4861\n",
      "2m 5s (70000 70%) 2.1191\n",
      "2m 14s (75000 75%) 1.2393\n",
      "2m 22s (80000 80%) 1.7773\n",
      "2m 30s (85000 85%) 2.0868\n",
      "2m 39s (90000 90%) 1.6754\n",
      "2m 48s (95000 95%) 2.0634\n",
      "2m 57s (100000 100%) 2.3819\n"
     ]
    }
   ],
   "source": [
    "n_iters = 100000\n",
    "print_every = 5000\n",
    "plot_every = 500\n",
    "all_losses = []\n",
    "total_loss = 0 # Reset every plot_every iters\n",
    "\n",
    "start = time.time()\n",
    "\n",
    "for iter in range(1, n_iters + 1):\n",
    "    output, loss = train(*randomTrainingExample())\n",
    "    total_loss += loss\n",
    "\n",
    "    if iter % print_every == 0:\n",
    "        print('%s (%d %d%%) %.4f' % (timeSince(start), iter, iter / n_iters * 100, loss))\n",
    "\n",
    "    if iter % plot_every == 0:\n",
    "        all_losses.append(total_loss / plot_every)\n",
    "        total_loss = 0"
   ]
  },
  {
   "cell_type": "code",
   "execution_count": 31,
   "metadata": {},
   "outputs": [
    {
     "data": {
      "text/plain": [
       "[<matplotlib.lines.Line2D at 0x766641bc83d0>]"
      ]
     },
     "execution_count": 31,
     "metadata": {},
     "output_type": "execute_result"
    },
    {
     "data": {
      "image/png": "[encoded data removed]",
      "text/plain": [
       "<Figure size 640x480 with 1 Axes>"
      ]
     },
     "metadata": {},
     "output_type": "display_data"
    }
   ],
   "source": [
    "import matplotlib.pyplot as plt\n",
    "\n",
    "plt.figure()\n",
    "plt.plot(all_losses)"
   ]
  },
  {
   "cell_type": "markdown",
   "metadata": {},
   "source": [
    "### Task 1:\n",
    "Given a start letter and a category, generate a new word until the network outputs the end of sequence token or the word reaches 20 characters. In the first time step use the given start letter as input to the RNN. In the following time steps use the letter as input for which the RNN previously gave the highest output score."
   ]
  },
  {
   "cell_type": "code",
   "execution_count": 68,
   "metadata": {},
   "outputs": [
    {
     "name": "stdout",
     "output_type": "stream",
     "text": [
      "-----------------------------------\n",
      "tensor([[0., 0., 0., 0., 1., 0., 0., 0., 0., 0., 0., 0., 0., 0., 0., 0., 0., 0.,\n",
      "         0., 0., 0., 0., 0., 0., 0., 0., 0., 0., 0., 0., 0., 0., 0., 0., 0., 0.,\n",
      "         0., 0., 0., 0., 0., 0., 0., 0., 0., 0., 0., 0., 0., 0., 0., 0., 0., 0.,\n",
      "         0., 0., 0.]])\n",
      "tensor([[ 3.7339,  2.9843,  3.5690,  2.2772,  3.2529,  1.7022,  3.0179,  4.1824,\n",
      "          4.9375,  0.2290,  3.2433,  5.4800,  2.3613,  5.0321,  2.5422,  1.1193,\n",
      "         -0.2690,  6.1573,  4.6820,  3.4838,  4.7750,  1.0138,  2.2557, -0.8107,\n",
      "          2.4639,  4.1054, -2.6131, -2.2800, -2.8680, -2.6758, -2.9871, -2.5518,\n",
      "         -2.8204, -2.8061, -3.0506, -2.8493, -2.8483, -2.9595, -2.8852, -2.9224,\n",
      "         -2.8373, -2.5026, -3.0360, -2.8565, -2.9413, -2.4363, -2.9202, -2.8074,\n",
      "         -2.6376, -3.0943, -3.2646, -2.7766, -0.3519, -2.9128, -3.1074, -2.8953,\n",
      "          2.7484]], grad_fn=<AddmmBackward0>)\n",
      "-----------------------------------\n",
      "tensor([[0., 0., 0., 0., 0., 0., 0., 0., 0., 0., 0., 0., 0., 0., 0., 0., 0., 1.,\n",
      "         0., 0., 0., 0., 0., 0., 0., 0., 0., 0., 0., 0., 0., 0., 0., 0., 0., 0.,\n",
      "         0., 0., 0., 0., 0., 0., 0., 0., 0., 0., 0., 0., 0., 0., 0., 0., 0., 0.,\n",
      "         0., 0., 0.]])\n",
      "tensor([[ 4.4781,  2.6598,  3.8364,  3.9382,  4.8789,  0.9797,  3.2936,  2.2307,\n",
      "          4.1264,  0.1482,  2.6541,  3.8619,  4.0330,  4.3414,  3.3121,  1.9051,\n",
      "          0.8855,  5.6312,  4.4422,  5.1007,  4.7183, -0.8529,  1.6471, -0.1250,\n",
      "          1.1096,  2.6232, -2.4216, -2.4413, -3.0360, -2.9042, -2.8585, -2.5479,\n",
      "         -2.9038, -2.9817, -2.7373, -2.9428, -2.9092, -2.7197, -2.8092, -2.8689,\n",
      "         -2.5896, -2.8764, -2.7866, -2.7895, -3.0857, -2.7844, -2.9483, -2.8318,\n",
      "         -2.5395, -2.9634, -2.2932, -2.7306, -0.9720, -2.8771, -2.9555, -2.6764,\n",
      "          4.3381]], grad_fn=<AddmmBackward0>)\n",
      "-----------------------------------\n",
      "tensor([[0., 0., 0., 0., 0., 0., 0., 0., 0., 0., 0., 0., 0., 0., 0., 0., 0., 1.,\n",
      "         0., 0., 0., 0., 0., 0., 0., 0., 0., 0., 0., 0., 0., 0., 0., 0., 0., 0.,\n",
      "         0., 0., 0., 0., 0., 0., 0., 0., 0., 0., 0., 0., 0., 0., 0., 0., 0., 0.,\n",
      "         0., 0., 0.]])\n",
      "tensor([[ 5.8700,  3.2523,  5.5070,  2.6899,  6.7312,  1.6634,  2.8764,  2.7162,\n",
      "          5.5693, -1.6752,  2.4111,  1.8774,  3.0966,  4.3854,  5.0533,  1.5212,\n",
      "         -0.0078,  3.0994,  4.5829,  2.8771,  3.9495,  0.7587,  0.3920, -0.2109,\n",
      "          2.9752,  1.6218, -2.1597, -2.8591, -3.1195, -3.2000, -2.9322, -2.4653,\n",
      "         -2.8340, -3.2312, -2.7049, -2.8488, -3.0691, -2.8299, -2.9082, -2.6670,\n",
      "         -2.6491, -2.5757, -2.7636, -2.9715, -2.7640, -2.7591, -2.7489, -2.6247,\n",
      "         -2.5964, -3.0202, -2.0412, -2.7813, -0.4799, -2.7981, -2.7584, -2.4061,\n",
      "          5.2770]], grad_fn=<AddmmBackward0>)\n",
      "-----------------------------------\n",
      "tensor([[0., 0., 0., 0., 1., 0., 0., 0., 0., 0., 0., 0., 0., 0., 0., 0., 0., 0.,\n",
      "         0., 0., 0., 0., 0., 0., 0., 0., 0., 0., 0., 0., 0., 0., 0., 0., 0., 0.,\n",
      "         0., 0., 0., 0., 0., 0., 0., 0., 0., 0., 0., 0., 0., 0., 0., 0., 0., 0.,\n",
      "         0., 0., 0.]])\n",
      "tensor([[ 1.9295,  2.7908,  3.5621,  3.1568,  2.4809,  2.5198,  3.7987,  2.4505,\n",
      "          2.8708,  0.1340,  3.1509,  3.8214,  2.7287,  5.8955,  0.9704,  0.7504,\n",
      "         -0.5650,  4.6742,  4.7025,  3.6616,  2.5004,  2.4717,  0.9747,  0.7999,\n",
      "          2.2683,  4.2580, -2.0636, -2.6941, -2.8767, -2.6920, -2.7968, -2.4287,\n",
      "         -2.8822, -2.8609, -2.5587, -2.4850, -2.9653, -2.6767, -3.1140, -2.8328,\n",
      "         -2.3002, -2.2733, -2.6282, -2.7592, -2.8281, -2.5804, -2.8023, -2.5613,\n",
      "         -2.2046, -2.6495, -2.4461, -2.4557,  1.6237, -2.6449, -2.8831, -2.3728,\n",
      "          4.9017]], grad_fn=<AddmmBackward0>)\n",
      "-----------------------------------\n",
      "tensor([[0., 0., 0., 0., 0., 0., 0., 0., 0., 0., 0., 0., 0., 1., 0., 0., 0., 0.,\n",
      "         0., 0., 0., 0., 0., 0., 0., 0., 0., 0., 0., 0., 0., 0., 0., 0., 0., 0.,\n",
      "         0., 0., 0., 0., 0., 0., 0., 0., 0., 0., 0., 0., 0., 0., 0., 0., 0., 0.,\n",
      "         0., 0., 0.]])\n",
      "tensor([[ 3.5455,  3.8163,  4.5160,  5.1976,  4.5197,  2.6898,  4.4653,  3.0202,\n",
      "          3.2347,  0.6696,  3.0189,  1.7347,  2.9967,  4.2645,  3.0012,  0.5318,\n",
      "          0.5054,  3.8473,  4.6059,  5.8329,  2.3849,  0.1257,  0.9653,  0.8916,\n",
      "          0.2355,  3.0546, -2.2603, -3.2052, -3.3357, -3.4302, -2.5529, -2.4990,\n",
      "         -3.2103, -3.5239, -2.4658, -2.5417, -3.4336, -3.0972, -3.2588, -3.1844,\n",
      "         -2.1165, -2.5992, -2.3865, -2.7264, -3.1746, -3.0895, -2.6201, -2.5307,\n",
      "         -2.4637, -2.7676, -2.0560, -2.7916,  0.4377, -2.7086, -2.7052, -2.3676,\n",
      "          6.1768]], grad_fn=<AddmmBackward0>)\n",
      "Berren'\n"
     ]
    }
   ],
   "source": [
    "max_length = 20\n",
    "\n",
    "start_letter = \"B\"\n",
    "category = 'German'\n",
    "\n",
    "# inputTensor maps start_letter from String to one-hot encoding\n",
    "\n",
    "# Preparation\n",
    "prediction = start_letter\n",
    "category_tensor = categoryTensor(category)\n",
    "input_letter = inputTensor(start_letter).squeeze(0)\n",
    "EOS_token = all_letters[-1]\n",
    "\n",
    "# First prediction\n",
    "output, hidden = rnn(category_tensor, input_letter, rnn.initHidden())\n",
    "predicted_char = all_letters[output.argmax().item()]\n",
    "prediction += predicted_char\n",
    "\n",
    "# prediction until 'EOS' or max 20 letters\n",
    "while predicted_char != EOS_token and len(prediction)<max_length:\n",
    "    print(\"-----------------------------------\")\n",
    "    print(inputTensor(predicted_char).squeeze(0))\n",
    "    input_letter = inputTensor(predicted_char).squeeze(0)\n",
    "    output, hidden = rnn(category_tensor, input_letter, hidden)\n",
    "    print(output)\n",
    "    predicted_char = all_letters[output.argmax().item()]\n",
    "    prediction += predicted_char\n",
    "\n",
    "print(prediction)"
   ]
  },
  {
   "cell_type": "markdown",
   "metadata": {},
   "source": [
    "### Task 2:\n",
    "Given several start letters and a category, generate a word until the network outputs the end of sequence token or the word reaches 20 characters. Before you start generating new letters, completely feed all start letters into the network. In the following time steps use the letter as input for which the RNN previously gave the highest output score."
   ]
  },
  {
   "cell_type": "code",
   "execution_count": 104,
   "metadata": {},
   "outputs": [
    {
     "name": "stdout",
     "output_type": "stream",
     "text": [
      "-----------------------------------\n",
      "tensor([[0., 0., 0., 0., 0., 0., 0., 0., 1., 0., 0., 0., 0., 0., 0., 0., 0., 0.,\n",
      "         0., 0., 0., 0., 0., 0., 0., 0., 0., 0., 0., 0., 0., 0., 0., 0., 0., 0.,\n",
      "         0., 0., 0., 0., 0., 0., 0., 0., 0., 0., 0., 0., 0., 0., 0., 0., 0., 0.,\n",
      "         0., 0., 0.]])\n",
      "-----------------------------------\n",
      "tensor([[0., 0., 1., 0., 0., 0., 0., 0., 0., 0., 0., 0., 0., 0., 0., 0., 0., 0.,\n",
      "         0., 0., 0., 0., 0., 0., 0., 0., 0., 0., 0., 0., 0., 0., 0., 0., 0., 0.,\n",
      "         0., 0., 0., 0., 0., 0., 0., 0., 0., 0., 0., 0., 0., 0., 0., 0., 0., 0.,\n",
      "         0., 0., 0.]])\n",
      "-----------------------------------\n",
      "tensor([[0., 0., 0., 0., 0., 0., 0., 1., 0., 0., 0., 0., 0., 0., 0., 0., 0., 0.,\n",
      "         0., 0., 0., 0., 0., 0., 0., 0., 0., 0., 0., 0., 0., 0., 0., 0., 0., 0.,\n",
      "         0., 0., 0., 0., 0., 0., 0., 0., 0., 0., 0., 0., 0., 0., 0., 0., 0., 0.,\n",
      "         0., 0., 0.]])\n",
      "-----------------------------------\n",
      "tensor([[0., 0., 0., 0., 1., 0., 0., 0., 0., 0., 0., 0., 0., 0., 0., 0., 0., 0.,\n",
      "         0., 0., 0., 0., 0., 0., 0., 0., 0., 0., 0., 0., 0., 0., 0., 0., 0., 0.,\n",
      "         0., 0., 0., 0., 0., 0., 0., 0., 0., 0., 0., 0., 0., 0., 0., 0., 0., 0.,\n",
      "         0., 0., 0.]])\n",
      "-----------------------------------\n",
      "tensor([[0., 0., 0., 0., 0., 0., 0., 0., 0., 0., 0., 0., 0., 0., 0., 0., 0., 1.,\n",
      "         0., 0., 0., 0., 0., 0., 0., 0., 0., 0., 0., 0., 0., 0., 0., 0., 0., 0.,\n",
      "         0., 0., 0., 0., 0., 0., 0., 0., 0., 0., 0., 0., 0., 0., 0., 0., 0., 0.,\n",
      "         0., 0., 0.]])\n",
      "Lcher'\n"
     ]
    }
   ],
   "source": [
    "max_length = 20\n",
    "\n",
    "start_letters = \"L\"\n",
    "category = 'Scottish'\n",
    "\n",
    "# inputTensor maps start_letter from String to one-hot encoding\n",
    "\n",
    "# Preparation\n",
    "prediction = \"\"\n",
    "category_tensor = categoryTensor(category)\n",
    "EOS_token = all_letters[-1]\n",
    "hidden = rnn.initHidden()\n",
    "# Predictions on start_letters\n",
    "for start_letter in start_letters:\n",
    "    input_letter = inputTensor(start_letter).squeeze(0)\n",
    "    output, hidden = rnn(category_tensor, input_letter, hidden)\n",
    "    predicted_char = all_letters[output.argmax().item()]\n",
    "    prediction += start_letter\n",
    "\n",
    "# prediction until 'EOS' or max 20 letters\n",
    "while predicted_char != EOS_token and len(prediction)<max_length:\n",
    "    print(\"-----------------------------------\")\n",
    "    print(inputTensor(predicted_char).squeeze(0))\n",
    "    input_letter = inputTensor(predicted_char).squeeze(0)\n",
    "    output, hidden = rnn(category_tensor, input_letter, hidden)\n",
    "    predicted_char = all_letters[output.argmax().item()]\n",
    "    prediction += predicted_char\n",
    "\n",
    "print(prediction)"
   ]
  },
  {
   "cell_type": "markdown",
   "metadata": {},
   "source": [
    "### Task 3:\n",
    "Repeat task 2, but instead of choosing the next letter as the one with the highest output, run a softmax over the output and sample from the resulting distribution to generate the next letter."
   ]
  },
  {
   "cell_type": "code",
   "execution_count": null,
   "metadata": {},
   "outputs": [],
   "source": [
    "max_length = 20\n",
    "\n",
    "start_letters = \"Mer\"\n",
    "category = 'German'\n",
    "\n",
    "# softmax\n",
    "# numpy.choice"
   ]
  }
 ],
 "metadata": {
  "kernelspec": {
   "display_name": "dmml2",
   "language": "python",
   "name": "python3"
  },
  "language_info": {
   "codemirror_mode": {
    "name": "ipython",
    "version": 3
   },
   "file_extension": ".py",
   "mimetype": "text/x-python",
   "name": "python",
   "nbconvert_exporter": "python",
   "pygments_lexer": "ipython3",
   "version": "3.8.20"
  }
 },
 "nbformat": 4,
 "nbformat_minor": 4
}
