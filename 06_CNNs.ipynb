{
 "cells": [
  {
   "cell_type": "markdown",
   "metadata": {},
   "source": [
    "# 6. Training a CNN"
   ]
  },
  {
   "cell_type": "markdown",
   "metadata": {},
   "source": [
    "Your coding task for this week is to train a small CNN on the MNIST data set that we used so far."
   ]
  },
  {
   "cell_type": "markdown",
   "metadata": {},
   "source": [
    "For this, we first load the data (the following four cells are the same as last week):"
   ]
  },
  {
   "cell_type": "code",
   "execution_count": 1,
   "metadata": {},
   "outputs": [
    {
     "data": {
      "text/plain": [
       "<torch._C.Generator at 0x7fc72a1483f0>"
      ]
     },
     "execution_count": 1,
     "metadata": {},
     "output_type": "execute_result"
    }
   ],
   "source": [
    "import torch\n",
    "torch.manual_seed(0) # to ensure reproducibiltiy"
   ]
  },
  {
   "cell_type": "code",
   "execution_count": 2,
   "metadata": {},
   "outputs": [
    {
     "name": "stdout",
     "output_type": "stream",
     "text": [
      "Using cpu device\n"
     ]
    }
   ],
   "source": [
    "device = \"cuda\" if torch.cuda.is_available() else \"cpu\"\n",
    "print(f\"Using {device} device\")"
   ]
  },
  {
   "cell_type": "code",
   "execution_count": 3,
   "metadata": {},
   "outputs": [],
   "source": [
    "from sklearn.datasets import fetch_openml\n",
    "X, y = fetch_openml('mnist_784', version=1, return_X_y=True, cache=True, parser='auto')"
   ]
  },
  {
   "cell_type": "code",
   "execution_count": 4,
   "metadata": {},
   "outputs": [
    {
     "data": {
      "text/plain": [
       "((59500, 784), (59500,))"
      ]
     },
     "execution_count": 4,
     "metadata": {},
     "output_type": "execute_result"
    }
   ],
   "source": [
    "from sklearn.model_selection import train_test_split\n",
    "X_scaled = (X/255).astype('float32').values\n",
    "y = y.astype('long').values\n",
    "X_train, X_test, y_train, y_test = train_test_split(X_scaled, y, test_size=0.15, random_state=42)\n",
    "X_train.shape, y_train.shape"
   ]
  },
  {
   "cell_type": "code",
   "execution_count": 5,
   "metadata": {},
   "outputs": [
    {
     "data": {
      "text/plain": [
       "torch.Size([59500, 784])"
      ]
     },
     "execution_count": 5,
     "metadata": {},
     "output_type": "execute_result"
    }
   ],
   "source": [
    "train_x = torch.Tensor(X_train).float().to(device)\n",
    "test_x = torch.Tensor(X_test).float().to(device)\n",
    "train_y = torch.Tensor(y_train).long().to(device)\n",
    "test_y = torch.Tensor(y_test).long().to(device)\n",
    "train_x.shape"
   ]
  },
  {
   "cell_type": "markdown",
   "metadata": {},
   "source": [
    "To make the input ready for a CNN, we need to bring the image again to 28x28 square shape and add a color dimension of 1 (since the image is greyscale)."
   ]
  },
  {
   "cell_type": "code",
   "execution_count": 6,
   "metadata": {},
   "outputs": [
    {
     "data": {
      "text/plain": [
       "torch.Size([59500, 1, 28, 28])"
      ]
     },
     "execution_count": 6,
     "metadata": {},
     "output_type": "execute_result"
    }
   ],
   "source": [
    "torch_X_train = train_x.view(-1, 1, 28,28).float()\n",
    "torch_X_test = test_x.view(-1, 1, 28,28).float()\n",
    "torch_X_train.shape"
   ]
  },
  {
   "cell_type": "markdown",
   "metadata": {},
   "source": [
    "We are now ready to define a small CNN"
   ]
  },
  {
   "cell_type": "code",
   "execution_count": 7,
   "metadata": {},
   "outputs": [],
   "source": [
    "import torch.nn as nn\n",
    "import torch.nn.functional as F\n",
    "\n",
    "\n",
    "class CNN(nn.Module):\n",
    "    def __init__(self):\n",
    "        super(CNN, self).__init__()\n",
    "        self.conv = nn.Conv2d(1, 4, 3)\n",
    "        self.pool = nn.MaxPool2d(2, 2)\n",
    "        self.fc = nn.Linear(4*13*13, 10)\n",
    "\n",
    "    def forward(self, x):\n",
    "        x = F.relu(self.conv(x))\n",
    "        x = self.pool(x)\n",
    "        x = x.view(-1, 4*13*13)\n",
    "        return self.fc(x)"
   ]
  },
  {
   "cell_type": "markdown",
   "metadata": {},
   "source": [
    "Let's now train the model (same code as last week again)"
   ]
  },
  {
   "cell_type": "code",
   "execution_count": 8,
   "metadata": {},
   "outputs": [],
   "source": [
    "def train(model):\n",
    "    model.to(device)            # copy the model to the device \n",
    "    model.train()\n",
    "    \n",
    "    no_epochs = 30\n",
    "    learning_rate = 0.1\n",
    "    \n",
    "    loss_func = nn.CrossEntropyLoss()  \n",
    "    optimizer = torch.optim.SGD(model.parameters(), lr=learning_rate)\n",
    "    \n",
    "    losses = []\n",
    "    for iteration in range(no_epochs):\n",
    "        \n",
    "        optimizer.zero_grad()\n",
    "        y_hat = model(torch_X_train) # we predict on all data points (= batch gradient descent)\n",
    "        \n",
    "        loss = loss_func(y_hat, train_y) # calculate the loss\n",
    "        loss.backward() # backpropagate the loss to calculate gradients\n",
    "        optimizer.step() # update the weights using these gradients \n",
    "    \n",
    "        losses.append(loss.item())\n",
    "        if iteration % 4 == 0:\n",
    "            print(f\"Loss in epoch {iteration} is {loss.item()}\")\n",
    "\n",
    "    return losses"
   ]
  },
  {
   "cell_type": "code",
   "execution_count": 9,
   "metadata": {},
   "outputs": [
    {
     "name": "stdout",
     "output_type": "stream",
     "text": [
      "Loss in epoch 0 is 2.289332151412964\n",
      "Loss in epoch 4 is 2.203684091567993\n",
      "Loss in epoch 8 is 2.0622024536132812\n",
      "Loss in epoch 12 is 1.7878761291503906\n",
      "Loss in epoch 16 is 1.381054401397705\n",
      "Loss in epoch 20 is 1.0158435106277466\n",
      "Loss in epoch 24 is 0.7930989861488342\n",
      "Loss in epoch 28 is 0.6659960746765137\n"
     ]
    }
   ],
   "source": [
    "cnn = CNN()\n",
    "losses = train(cnn)"
   ]
  },
  {
   "cell_type": "code",
   "execution_count": 10,
   "metadata": {},
   "outputs": [
    {
     "data": {
      "text/plain": [
       "Text(0, 0.5, 'loss')"
      ]
     },
     "execution_count": 10,
     "metadata": {},
     "output_type": "execute_result"
    },
    {
     "data": {
      "image/png": "[encoded data removed]",
      "text/plain": [
       "<Figure size 640x480 with 1 Axes>"
      ]
     },
     "metadata": {},
     "output_type": "display_data"
    }
   ],
   "source": [
    "import matplotlib.pyplot as plt\n",
    "fig = plt.figure()\n",
    "plt.plot(range(0, len(losses)), losses)\n",
    "plt.xlabel('number of epochs')\n",
    "plt.ylabel('loss')"
   ]
  },
  {
   "cell_type": "markdown",
   "metadata": {},
   "source": [
    "And predict on the test data:"
   ]
  },
  {
   "cell_type": "code",
   "execution_count": 11,
   "metadata": {},
   "outputs": [],
   "source": [
    "def evaluate(model):\n",
    "    model.eval() \n",
    "    y_pred = model(torch_X_test)\n",
    "    predicted = torch.argmax(y_pred.data, 1)\n",
    "    correct = (predicted == test_y).sum().item()\n",
    "    accuracy = correct / len(torch_X_test)\n",
    "    \n",
    "    print(f\"Accuarcy is {100. * accuracy}%\")"
   ]
  },
  {
   "cell_type": "code",
   "execution_count": 12,
   "metadata": {},
   "outputs": [
    {
     "name": "stdout",
     "output_type": "stream",
     "text": [
      "Accuarcy is 84.89523809523808%\n"
     ]
    }
   ],
   "source": [
    "evaluate(cnn)"
   ]
  },
  {
   "cell_type": "markdown",
   "metadata": {},
   "source": [
    "### Coding Tasks:"
   ]
  },
  {
   "cell_type": "markdown",
   "metadata": {},
   "source": [
    "We want to change now the CNN a little bit to check if we can increase the accuracy, try the following steps:\n",
    "1. Try to understand why the number `4*13*13` is there in the CNN definition?\n",
    "2. Increase the kernel size of the CNN layer to 5 and add a padding of 1 (you need to change the aforementioned number).\n",
    "3. Add a second CNN layer that comes after the first CNN layer. This new layer has kernel size 5, and a feature map size of 8. Set the padding to 0 for both CNN layers.\n",
    "4. Add a second fully connected layer, just before the last layer. This layer should have 84 neurons.\n",
    "\n",
    "Every step, retrain the network to see if your changes work."
   ]
  },
  {
   "cell_type": "markdown",
   "metadata": {},
   "source": [
    "If you have time left, read and try to understand PyTorch's offical CNN tutorial, which can be found [here](https://pytorch.org/tutorials/beginner/blitz/cifar10_tutorial.html)."
   ]
  }
 ],
 "metadata": {
  "kernelspec": {
   "display_name": "Python 3 (ipykernel)",
   "language": "python",
   "name": "python3"
  },
  "language_info": {
   "codemirror_mode": {
    "name": "ipython",
    "version": 3
   },
   "file_extension": ".py",
   "mimetype": "text/x-python",
   "name": "python",
   "nbconvert_exporter": "python",
   "pygments_lexer": "ipython3",
   "version": "3.8.18"
  }
 },
 "nbformat": 4,
 "nbformat_minor": 4
}
