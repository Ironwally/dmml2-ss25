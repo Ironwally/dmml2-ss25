{
 "cells": [
  {
   "cell_type": "markdown",
   "id": "992d12f8",
   "metadata": {},
   "source": [
    "# 1. Prepare Data"
   ]
  },
  {
   "cell_type": "code",
   "execution_count": 1,
   "id": "a4d3ae80",
   "metadata": {},
   "outputs": [
    {
     "data": {
      "text/html": [
       "<div>\n",
       "<style scoped>\n",
       "    .dataframe tbody tr th:only-of-type {\n",
       "        vertical-align: middle;\n",
       "    }\n",
       "\n",
       "    .dataframe tbody tr th {\n",
       "        vertical-align: top;\n",
       "    }\n",
       "\n",
       "    .dataframe thead th {\n",
       "        text-align: right;\n",
       "    }\n",
       "</style>\n",
       "<table border=\"1\" class=\"dataframe\">\n",
       "  <thead>\n",
       "    <tr style=\"text-align: right;\">\n",
       "      <th></th>\n",
       "      <th>PassengerId</th>\n",
       "      <th>Survived</th>\n",
       "      <th>Pclass</th>\n",
       "      <th>Name</th>\n",
       "      <th>Sex</th>\n",
       "      <th>Age</th>\n",
       "      <th>SibSp</th>\n",
       "      <th>Parch</th>\n",
       "      <th>Ticket</th>\n",
       "      <th>Fare</th>\n",
       "      <th>Cabin</th>\n",
       "      <th>Embarked</th>\n",
       "    </tr>\n",
       "  </thead>\n",
       "  <tbody>\n",
       "    <tr>\n",
       "      <th>0</th>\n",
       "      <td>1</td>\n",
       "      <td>0</td>\n",
       "      <td>3</td>\n",
       "      <td>Braund, Mr. Owen Harris</td>\n",
       "      <td>male</td>\n",
       "      <td>22.0</td>\n",
       "      <td>1</td>\n",
       "      <td>0</td>\n",
       "      <td>A/5 21171</td>\n",
       "      <td>7.2500</td>\n",
       "      <td>NaN</td>\n",
       "      <td>S</td>\n",
       "    </tr>\n",
       "    <tr>\n",
       "      <th>1</th>\n",
       "      <td>2</td>\n",
       "      <td>1</td>\n",
       "      <td>1</td>\n",
       "      <td>Cumings, Mrs. John Bradley (Florence Briggs Th...</td>\n",
       "      <td>female</td>\n",
       "      <td>38.0</td>\n",
       "      <td>1</td>\n",
       "      <td>0</td>\n",
       "      <td>PC 17599</td>\n",
       "      <td>71.2833</td>\n",
       "      <td>C85</td>\n",
       "      <td>C</td>\n",
       "    </tr>\n",
       "    <tr>\n",
       "      <th>2</th>\n",
       "      <td>3</td>\n",
       "      <td>1</td>\n",
       "      <td>3</td>\n",
       "      <td>Heikkinen, Miss. Laina</td>\n",
       "      <td>female</td>\n",
       "      <td>26.0</td>\n",
       "      <td>0</td>\n",
       "      <td>0</td>\n",
       "      <td>STON/O2. 3101282</td>\n",
       "      <td>7.9250</td>\n",
       "      <td>NaN</td>\n",
       "      <td>S</td>\n",
       "    </tr>\n",
       "    <tr>\n",
       "      <th>3</th>\n",
       "      <td>4</td>\n",
       "      <td>1</td>\n",
       "      <td>1</td>\n",
       "      <td>Futrelle, Mrs. Jacques Heath (Lily May Peel)</td>\n",
       "      <td>female</td>\n",
       "      <td>35.0</td>\n",
       "      <td>1</td>\n",
       "      <td>0</td>\n",
       "      <td>113803</td>\n",
       "      <td>53.1000</td>\n",
       "      <td>C123</td>\n",
       "      <td>S</td>\n",
       "    </tr>\n",
       "    <tr>\n",
       "      <th>4</th>\n",
       "      <td>5</td>\n",
       "      <td>0</td>\n",
       "      <td>3</td>\n",
       "      <td>Allen, Mr. William Henry</td>\n",
       "      <td>male</td>\n",
       "      <td>35.0</td>\n",
       "      <td>0</td>\n",
       "      <td>0</td>\n",
       "      <td>373450</td>\n",
       "      <td>8.0500</td>\n",
       "      <td>NaN</td>\n",
       "      <td>S</td>\n",
       "    </tr>\n",
       "  </tbody>\n",
       "</table>\n",
       "</div>"
      ],
      "text/plain": [
       "   PassengerId  Survived  Pclass  \\\n",
       "0            1         0       3   \n",
       "1            2         1       1   \n",
       "2            3         1       3   \n",
       "3            4         1       1   \n",
       "4            5         0       3   \n",
       "\n",
       "                                                Name     Sex   Age  SibSp  \\\n",
       "0                            Braund, Mr. Owen Harris    male  22.0      1   \n",
       "1  Cumings, Mrs. John Bradley (Florence Briggs Th...  female  38.0      1   \n",
       "2                             Heikkinen, Miss. Laina  female  26.0      0   \n",
       "3       Futrelle, Mrs. Jacques Heath (Lily May Peel)  female  35.0      1   \n",
       "4                           Allen, Mr. William Henry    male  35.0      0   \n",
       "\n",
       "   Parch            Ticket     Fare Cabin Embarked  \n",
       "0      0         A/5 21171   7.2500   NaN        S  \n",
       "1      0          PC 17599  71.2833   C85        C  \n",
       "2      0  STON/O2. 3101282   7.9250   NaN        S  \n",
       "3      0            113803  53.1000  C123        S  \n",
       "4      0            373450   8.0500   NaN        S  "
      ]
     },
     "execution_count": 1,
     "metadata": {},
     "output_type": "execute_result"
    }
   ],
   "source": [
    "# import titanic dataset\n",
    "import pandas as pd\n",
    "titanic_dataset = pd.read_csv('data/titanic.csv')\n",
    "titanic_dataset.head()"
   ]
  },
  {
   "cell_type": "code",
   "execution_count": 2,
   "id": "7f896529",
   "metadata": {},
   "outputs": [],
   "source": [
    "titanic_dataset_filtered = titanic_dataset[['Pclass', 'Sex', 'Age', 'SibSp', 'Parch', 'Fare', 'Embarked', 'Survived']]\n",
    "titanic_dataset_filtered_na = titanic_dataset_filtered.dropna()\n",
    "# one hot encoding\n",
    "titanic_dataset_filtered_na_encoded = pd.get_dummies(titanic_dataset_filtered_na, columns=['Sex', 'Embarked'], dtype=float)\n",
    "label = titanic_dataset_filtered_na_encoded['Survived']\n",
    "features = titanic_dataset_filtered_na_encoded.drop(['Survived'], axis=1)  "
   ]
  },
  {
   "cell_type": "code",
   "execution_count": 3,
   "id": "518d87ec",
   "metadata": {},
   "outputs": [],
   "source": [
    "# extract numpy arrays to create tensors\n",
    "features = features.values\n",
    "label = label.values"
   ]
  },
  {
   "cell_type": "code",
   "execution_count": 4,
   "id": "ab42df0b",
   "metadata": {},
   "outputs": [],
   "source": [
    "from sklearn.model_selection import train_test_split\n",
    "feature_train, feature_test, label_train, label_test = train_test_split(features, label, test_size=0.2, random_state=0)"
   ]
  },
  {
   "cell_type": "markdown",
   "id": "ceb311c3",
   "metadata": {},
   "source": [
    "# 2. Train neural network"
   ]
  },
  {
   "cell_type": "code",
   "execution_count": 5,
   "id": "36d3a17f",
   "metadata": {},
   "outputs": [
    {
     "name": "stdout",
     "output_type": "stream",
     "text": [
      "Using cpu device\n"
     ]
    }
   ],
   "source": [
    "# set processing device\n",
    "import torch\n",
    "device = \"cuda\" if torch.cuda.is_available() else \"cpu\"\n",
    "print(f\"Using {device} device\")"
   ]
  },
  {
   "cell_type": "code",
   "execution_count": 6,
   "id": "c6fb1b54",
   "metadata": {},
   "outputs": [],
   "source": [
    "tensor_feature_train = torch.Tensor(feature_train).float().to(device)\n",
    "tensor_feature_test = torch.Tensor(feature_test).float().to(device)\n",
    "tensor_label_train = torch.Tensor(label_train).long().to(device)\n",
    "tensor_label_test = torch.Tensor(label_test).long().to(device)"
   ]
  },
  {
   "cell_type": "code",
   "execution_count": 7,
   "id": "d01f74ec",
   "metadata": {},
   "outputs": [],
   "source": [
    "import torch\n",
    "torch.manual_seed(0) # ensure reproducibiltiy\n",
    "import torch.nn as nn\n",
    "\n",
    "class DeepNeuralNetwork(nn.Module):\n",
    "    def __init__(self):\n",
    "\n",
    "        super(DeepNeuralNetwork, self).__init__()\n",
    "\n",
    "        # layer definitions\n",
    "        self.hidden1 = nn.Linear(10, 5)\n",
    "        self.output = nn.Linear(5, 2)\n",
    "\n",
    "    def forward(self, x):\n",
    "        \n",
    "        # forward pass\n",
    "        z1 = self.hidden1(x)\n",
    "        a1 = torch.relu(z1)\n",
    "        z2 = self.output(a1)\n",
    "        # no softmax for output layer\n",
    "        return z2"
   ]
  },
  {
   "cell_type": "code",
   "execution_count": 8,
   "id": "b08345ae",
   "metadata": {},
   "outputs": [
    {
     "data": {
      "text/plain": [
       "DeepNeuralNetwork(\n",
       "  (hidden1): Linear(in_features=10, out_features=5, bias=True)\n",
       "  (output): Linear(in_features=5, out_features=2, bias=True)\n",
       ")"
      ]
     },
     "execution_count": 8,
     "metadata": {},
     "output_type": "execute_result"
    }
   ],
   "source": [
    "dnn = DeepNeuralNetwork()\n",
    "dnn.to(device)\n",
    "dnn.train()"
   ]
  },
  {
   "cell_type": "markdown",
   "id": "ea203762",
   "metadata": {},
   "source": [
    "## Training Proceedure"
   ]
  },
  {
   "cell_type": "code",
   "execution_count": 9,
   "id": "833c4df8",
   "metadata": {},
   "outputs": [
    {
     "name": "stdout",
     "output_type": "stream",
     "text": [
      "Loss in epoch 0 is 2.679896354675293\n",
      "Loss in epoch 20 is 0.9348610043525696\n",
      "Loss in epoch 40 is 0.7034342885017395\n",
      "Loss in epoch 60 is 0.6687774658203125\n",
      "Loss in epoch 80 is 0.6559247970581055\n",
      "Loss in epoch 100 is 0.6481152176856995\n",
      "Loss in epoch 120 is 0.6426729559898376\n",
      "Loss in epoch 140 is 0.6388674378395081\n",
      "Loss in epoch 160 is 0.6362173557281494\n",
      "Loss in epoch 180 is 0.6343756914138794\n"
     ]
    }
   ],
   "source": [
    "no_epochs = 200\n",
    "learning_rate = 0.001\n",
    "\n",
    "loss_func = nn.CrossEntropyLoss()\n",
    "optimizer = torch.optim.SGD(dnn.parameters(), lr=learning_rate)\n",
    "\n",
    "losses = []\n",
    "for epoch in range(no_epochs):\n",
    "    optimizer.zero_grad()\n",
    "\n",
    "    # forward pass\n",
    "    label_pred = dnn(tensor_feature_train) # predict on all datapoints (batch gradient descend)\n",
    "\n",
    "    # backward pass\n",
    "    loss = loss_func(label_pred, tensor_label_train)\n",
    "    loss.backward() # calculate gradients\n",
    "    optimizer.step() # update Weights using gradients\n",
    "\n",
    "    losses.append(loss.item())\n",
    "    if epoch % 20 == 0:\n",
    "        print(f\"Loss in epoch {epoch} is {loss.item()}\")\n"
   ]
  },
  {
   "cell_type": "code",
   "execution_count": 10,
   "id": "b8b0836c",
   "metadata": {},
   "outputs": [
    {
     "data": {
      "text/plain": [
       "Text(0, 0.5, 'loss')"
      ]
     },
     "execution_count": 10,
     "metadata": {},
     "output_type": "execute_result"
    },
    {
     "data": {
      "image/png": "[encoded data removed]",
      "text/plain": [
       "<Figure size 640x480 with 1 Axes>"
      ]
     },
     "metadata": {},
     "output_type": "display_data"
    }
   ],
   "source": [
    "import matplotlib.pyplot as plt\n",
    "fig = plt.figure()\n",
    "plt.plot(range(0, no_epochs), losses)\n",
    "plt.xlabel('number of epochs')\n",
    "plt.ylabel('loss')"
   ]
  },
  {
   "cell_type": "markdown",
   "id": "90dcc03a",
   "metadata": {},
   "source": [
    "## Prediction and accuracy"
   ]
  },
  {
   "cell_type": "code",
   "execution_count": 11,
   "id": "a23e829a",
   "metadata": {},
   "outputs": [
    {
     "name": "stdout",
     "output_type": "stream",
     "text": [
      "Accuarcy is 62.93706293706294%\n"
     ]
    }
   ],
   "source": [
    "dnn.eval() # set model to evaluation mode\n",
    "label_pred = dnn(tensor_feature_test)\n",
    "predicted = torch.argmax(label_pred.data, 1)\n",
    "correct = (predicted == tensor_label_test).sum().item()\n",
    "accuracy = correct / len(tensor_feature_test)\n",
    "\n",
    "print(f\"Accuarcy is {100. * accuracy}%\")"
   ]
  },
  {
   "cell_type": "markdown",
   "id": "92c1f85c",
   "metadata": {},
   "source": [
    "# 3. Check for overfitting "
   ]
  },
  {
   "cell_type": "code",
   "execution_count": 12,
   "id": "b38f079c",
   "metadata": {},
   "outputs": [
    {
     "data": {
      "text/plain": [
       "DeepNeuralNetwork(\n",
       "  (hidden1): Linear(in_features=10, out_features=5, bias=True)\n",
       "  (output): Linear(in_features=5, out_features=2, bias=True)\n",
       ")"
      ]
     },
     "execution_count": 12,
     "metadata": {},
     "output_type": "execute_result"
    }
   ],
   "source": [
    "# reset model\n",
    "dnn = DeepNeuralNetwork()\n",
    "dnn.to(device)\n",
    "dnn.train()"
   ]
  },
  {
   "cell_type": "code",
   "execution_count": 13,
   "id": "4cc0883e",
   "metadata": {},
   "outputs": [
    {
     "name": "stdout",
     "output_type": "stream",
     "text": [
      "Loss in epoch 0 is 1.0894228219985962\n",
      "Loss in epoch 20 is 0.7266775369644165\n",
      "Loss in epoch 40 is 0.710625410079956\n",
      "Loss in epoch 60 is 0.7017519474029541\n",
      "Loss in epoch 80 is 0.6950086355209351\n",
      "Loss in epoch 100 is 0.6891719698905945\n",
      "Loss in epoch 120 is 0.6838389039039612\n",
      "Loss in epoch 140 is 0.6789277195930481\n",
      "Loss in epoch 160 is 0.6744047999382019\n",
      "Loss in epoch 180 is 0.6701847910881042\n"
     ]
    }
   ],
   "source": [
    "no_epochs = 200\n",
    "learning_rate = 0.001\n",
    "\n",
    "loss_func = nn.CrossEntropyLoss()\n",
    "optimizer = torch.optim.SGD(dnn.parameters(), lr=learning_rate)\n",
    "\n",
    "\n",
    "losses = []\n",
    "accuracy_tests = []\n",
    "accuracy_trains = []\n",
    "for epoch in range(no_epochs):\n",
    "    optimizer.zero_grad()\n",
    "\n",
    "    # forward pass\n",
    "    label_pred = dnn(tensor_feature_train) # predict on all datapoints (batch gradient descend)\n",
    "\n",
    "    # backward pass\n",
    "    loss = loss_func(label_pred, tensor_label_train)\n",
    "    loss.backward() # calculate gradients\n",
    "    optimizer.step() # update Weights using gradients\n",
    "\n",
    "    losses.append(loss.item())\n",
    "\n",
    "    # test accuracy\n",
    "    predicted = torch.argmax(label_pred.data, 1)\n",
    "    correct = (predicted == tensor_label_train).sum().item()\n",
    "    accuracy_train = correct / len(tensor_feature_train)\n",
    "    \n",
    "    dnn.eval() # set model to evaluation mode\n",
    "    label_pred = dnn(tensor_feature_test)\n",
    "    dnn.train() # set model to training mode\n",
    "    predicted = torch.argmax(label_pred.data, 1)\n",
    "    correct = (predicted == tensor_label_test).sum().item()\n",
    "    accuracy_test = correct / len(tensor_feature_test)\n",
    "\n",
    "    accuracy_tests.append(accuracy_test)\n",
    "    accuracy_trains.append(accuracy_train)\n",
    "\n",
    "    if epoch % 20 == 0:\n",
    "        print(f\"Loss in epoch {epoch} is {loss.item()}\")"
   ]
  },
  {
   "cell_type": "code",
   "execution_count": 14,
   "id": "2283fb10",
   "metadata": {},
   "outputs": [
    {
     "data": {
      "image/png": "[encoded data removed]",
      "text/plain": [
       "<Figure size 640x480 with 1 Axes>"
      ]
     },
     "metadata": {},
     "output_type": "display_data"
    }
   ],
   "source": [
    "## plot accuracy\n",
    "fig = plt.figure()\n",
    "plt.plot(range(0, no_epochs), accuracy_tests, label = 'test data')\n",
    "plt.plot(range(0, no_epochs), accuracy_trains, label = 'train data')\n",
    "plt.xlabel('number of epochs')\n",
    "plt.ylabel('accuracy')\n",
    "plt.legend()\n",
    "plt.show()"
   ]
  },
  {
   "cell_type": "code",
   "execution_count": null,
   "id": "637278ac",
   "metadata": {},
   "outputs": [],
   "source": []
  }
 ],
 "metadata": {
  "kernelspec": {
   "display_name": "dmml2",
   "language": "python",
   "name": "python3"
  },
  "language_info": {
   "codemirror_mode": {
    "name": "ipython",
    "version": 3
   },
   "file_extension": ".py",
   "mimetype": "text/x-python",
   "name": "python",
   "nbconvert_exporter": "python",
   "pygments_lexer": "ipython3",
   "version": "3.8.20"
  }
 },
 "nbformat": 4,
 "nbformat_minor": 5
}
